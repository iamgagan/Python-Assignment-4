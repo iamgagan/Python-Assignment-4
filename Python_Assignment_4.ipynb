{
  "nbformat": 4,
  "nbformat_minor": 0,
  "metadata": {
    "colab": {
      "name": "Python Assignment 4.ipynb",
      "provenance": [],
      "collapsed_sections": []
    },
    "kernelspec": {
      "name": "python3",
      "display_name": "Python 3"
    },
    "language_info": {
      "name": "python"
    }
  },
  "cells": [
    {
      "cell_type": "markdown",
      "metadata": {
        "id": "NxTYLKPupr0V"
      },
      "source": [
        "#1.1 Write a Python Program(with class concepts) to find the area of the triangle using the below formula.\n",
        "##area = (s*(s-a)*(s-b)*(s-c)) ** 0.5\n",
        "##Function to take the length of the sides of triangle from user should be defined in the parent class and function to calculate the area should be defined in subclass."
      ]
    },
    {
      "cell_type": "code",
      "metadata": {
        "id": "q-QxgZUkpbBd"
      },
      "source": [
        "class Triangle:\n",
        "  def __init__(self,a,b,c):\n",
        "    self.a = float(a)\n",
        "    self.b = float(b)\n",
        "    self.c = float(c)\n",
        "  \n",
        "\n",
        "class Area(Triangle):\n",
        "\n",
        "  def __init__(self,a,b,c):\n",
        "    super().__init__(a,b,c)\n",
        "  \n",
        "  def area(self):\n",
        "\n",
        "    s = (self.a + self.b + self.c)/2\n",
        "    return (s*(s-self.a)*(s-self.b)*(s-self.c))*0.5"
      ],
      "execution_count": 26,
      "outputs": []
    },
    {
      "cell_type": "code",
      "metadata": {
        "colab": {
          "base_uri": "https://localhost:8080/"
        },
        "id": "8zzlUhV5reSp",
        "outputId": "3f77adbb-88c4-46f7-b278-eae5cb4367dd"
      },
      "source": [
        "a = Area(2,3,4)\n",
        "print(a.area())"
      ],
      "execution_count": 27,
      "outputs": [
        {
          "output_type": "stream",
          "text": [
            "4.21875\n"
          ],
          "name": "stdout"
        }
      ]
    },
    {
      "cell_type": "markdown",
      "metadata": {
        "id": "XQ4vXhZ-p8vi"
      },
      "source": [
        "#1.2 Write a function filter_long_words() that takes a list of words and an integer n and returns the list of words that are longer than n.\n"
      ]
    },
    {
      "cell_type": "code",
      "metadata": {
        "id": "dq1G9YGyptEa"
      },
      "source": [
        "def filter_long_words(words,n):\n",
        "\n",
        "  return [w for w in words if len(w) > n]"
      ],
      "execution_count": 28,
      "outputs": []
    },
    {
      "cell_type": "code",
      "metadata": {
        "colab": {
          "base_uri": "https://localhost:8080/"
        },
        "id": "QQf7Q8jatv3Q",
        "outputId": "b65d6f1e-52cb-4b9e-d8c5-8dea5dd5b671"
      },
      "source": [
        "filter_long_words(['Gagan','deep','singh','is','a','great','person'],3)"
      ],
      "execution_count": 29,
      "outputs": [
        {
          "output_type": "execute_result",
          "data": {
            "text/plain": [
              "['Gagan', 'deep', 'singh', 'great', 'person']"
            ]
          },
          "metadata": {
            "tags": []
          },
          "execution_count": 29
        }
      ]
    },
    {
      "cell_type": "markdown",
      "metadata": {
        "id": "r39RftAYp_qS"
      },
      "source": [
        "#2.1 Write a Python program using function concept that maps list of words into a list of integers representing the lengths of the corresponding words.\n",
        "###Hint: If a list [ ab,cde,erty] is passed on to the python function output should come as [2,3,4] Here 2,3 and 4 are the lengths of the words in the list.\n"
      ]
    },
    {
      "cell_type": "code",
      "metadata": {
        "id": "3x9k4gvMp_Bz"
      },
      "source": [
        "def length_of_words(words):\n",
        "\n",
        "  return [len(x) for x in words]"
      ],
      "execution_count": 30,
      "outputs": []
    },
    {
      "cell_type": "code",
      "metadata": {
        "colab": {
          "base_uri": "https://localhost:8080/"
        },
        "id": "_Vor3lyAp_FO",
        "outputId": "6498cada-27a0-4ca8-fa7f-16bad78c43fb"
      },
      "source": [
        "length_of_words(['ab','cde','erty'])"
      ],
      "execution_count": 32,
      "outputs": [
        {
          "output_type": "execute_result",
          "data": {
            "text/plain": [
              "[2, 3, 4]"
            ]
          },
          "metadata": {
            "tags": []
          },
          "execution_count": 32
        }
      ]
    },
    {
      "cell_type": "markdown",
      "metadata": {
        "id": "TpZi_2HIqCiY"
      },
      "source": [
        "#2.2 Write a Python function which takes a character (i.e. a string of length 1) and returns True if it is a vowel, False otherwise."
      ]
    },
    {
      "cell_type": "code",
      "metadata": {
        "id": "OqPzZvDYp_He"
      },
      "source": [
        "def isVowel(char):\n",
        "\n",
        "  vowels = ['a','e','i','o','u']\n",
        "\n",
        "  return [True if x in vowels else False for x in char]"
      ],
      "execution_count": 33,
      "outputs": []
    },
    {
      "cell_type": "code",
      "metadata": {
        "colab": {
          "base_uri": "https://localhost:8080/"
        },
        "id": "m0M3mEbbupRx",
        "outputId": "16caa8be-fd68-4824-d845-69edb03fb046"
      },
      "source": [
        "isVowel('a')"
      ],
      "execution_count": 34,
      "outputs": [
        {
          "output_type": "execute_result",
          "data": {
            "text/plain": [
              "[True]"
            ]
          },
          "metadata": {
            "tags": []
          },
          "execution_count": 34
        }
      ]
    },
    {
      "cell_type": "code",
      "metadata": {
        "colab": {
          "base_uri": "https://localhost:8080/"
        },
        "id": "d_NhlchQusi9",
        "outputId": "7fab37a8-f02c-4af4-a50b-e88931cdd34c"
      },
      "source": [
        "isVowel('b')"
      ],
      "execution_count": 35,
      "outputs": [
        {
          "output_type": "execute_result",
          "data": {
            "text/plain": [
              "[False]"
            ]
          },
          "metadata": {
            "tags": []
          },
          "execution_count": 35
        }
      ]
    }
  ]
}